{
  "nbformat": 4,
  "nbformat_minor": 0,
  "metadata": {
    "colab": {
      "name": "Untitled3.ipynb",
      "provenance": [],
      "authorship_tag": "ABX9TyOMTeC14z17pxuhMjr2nD/3",
      "include_colab_link": true
    },
    "kernelspec": {
      "name": "python3",
      "display_name": "Python 3"
    },
    "language_info": {
      "name": "python"
    }
  },
  "cells": [
    {
      "cell_type": "markdown",
      "metadata": {
        "id": "view-in-github",
        "colab_type": "text"
      },
      "source": [
        "<a href=\"https://colab.research.google.com/github/Sphinx500/Explore-and-analyse-data-with-Python/blob/main/Introduction.ipynb\" target=\"_parent\"><img src=\"https://colab.research.google.com/assets/colab-badge.svg\" alt=\"Open In Colab\"/></a>"
      ]
    },
    {
      "cell_type": "markdown",
      "metadata": {
        "id": "YPYEWLguE0Is"
      },
      "source": [
        "##INTRODUCCIÓN"
      ]
    },
    {
      "cell_type": "markdown",
      "metadata": {
        "id": "QP1P7zlzE0Cs"
      },
      "source": [
        "Como era de esperar, el papel de un científico de datos implica principalmente explorar y analizar datos. Los resultados de un análisis pueden formar la base de un informe o un modelo de aprendizaje automático, pero todo comienza con los datos, siendo Python el lenguaje de programación más popular para los científicos de datos.\n",
        "\n",
        "\n",
        "\n"
      ]
    },
    {
      "cell_type": "markdown",
      "metadata": {
        "id": "2PSRS1FeE0Ap"
      },
      "source": [
        "Después de décadas de desarrollo de código abierto, Python proporciona una amplia funcionalidad con potentes bibliotecas estadísticas y numéricas:\n",
        "\n",
        "\n",
        "*   NumPy y Pandas simplifican el análisis y la manipulación de datos\n",
        "*   Matplotlib proporciona visualizaciones de datos atractivas\n",
        "*   Scikit-learn ofrece un análisis de datos predictivo simple y efectivo\n",
        "*   TensorFlow y PyTorch ofrecen capacidades de aprendizaje automático y aprendizaje profundo"
      ]
    },
    {
      "cell_type": "markdown",
      "metadata": {
        "id": "zCWDi7piEz9p"
      },
      "source": [
        "Por lo general, un proyecto de análisis de datos está diseñado para establecer conocimientos sobre un escenario particular o para probar una hipótesis.\n",
        "\n",
        "Por ejemplo, supongamos que un profesor universitario recopila datos de sus estudiantes, incluido el número de conferencias a las que asistieron, las horas dedicadas al estudio y la calificación final obtenida en el examen de fin de trimestre. El profesor podría analizar los datos para determinar si existe una relación entre la cantidad de estudios que realiza un alumno y la nota final que obtiene. El profesor podría usar los datos para probar la hipótesis de que solo los estudiantes que estudian durante un número mínimo de horas pueden esperar obtener una calificación aprobatoria."
      ]
    },
    {
      "cell_type": "markdown",
      "metadata": {
        "id": "gn_SaL8oEz6R"
      },
      "source": [
        "**Prerrequisitos**\n",
        "Conocimiento de matemáticas básicas.\n",
        "Alguna experiencia programando en Python\n",
        "Objetivos de aprendizaje\n",
        "En este módulo, podrá:\n",
        "\n",
        "**Tareas comunes de exploración y análisis de datos.**\n",
        "Cómo usar paquetes de Python como NumPy, Pandas y Matplotlib para analizar datos\n"
      ]
    },
    {
      "cell_type": "markdown",
      "metadata": {
        "id": "RYGa6sxxEzwI"
      },
      "source": [
        ""
      ]
    }
  ]
}