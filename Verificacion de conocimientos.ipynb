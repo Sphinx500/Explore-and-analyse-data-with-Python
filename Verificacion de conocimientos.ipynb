{
  "nbformat": 4,
  "nbformat_minor": 0,
  "metadata": {
    "colab": {
      "name": "Untitled7.ipynb",
      "provenance": [],
      "authorship_tag": "ABX9TyPrM2Z9T7dfNKO4LDHgqPkR",
      "include_colab_link": true
    },
    "kernelspec": {
      "name": "python3",
      "display_name": "Python 3"
    },
    "language_info": {
      "name": "python"
    }
  },
  "cells": [
    {
      "cell_type": "markdown",
      "metadata": {
        "id": "view-in-github",
        "colab_type": "text"
      },
      "source": [
        "<a href=\"https://colab.research.google.com/github/Sphinx500/Explore-and-analyse-data-with-Python/blob/main/Verificacion%20de%20conocimientos.ipynb\" target=\"_parent\"><img src=\"https://colab.research.google.com/assets/colab-badge.svg\" alt=\"Open In Colab\"/></a>"
      ]
    },
    {
      "cell_type": "markdown",
      "metadata": {
        "id": "TlHkbO6BQWYi"
      },
      "source": [
        "## Verificación de conocimientos"
      ]
    },
    {
      "cell_type": "markdown",
      "metadata": {
        "id": "IgxkrAIEQYi_"
      },
      "source": [
        "Responda las siguientes preguntas para comprobar su aprendizaje.\n",
        "\n",
        "1. Tiene una matriz NumPy con la forma (2,20). ¿Qué te dice esto sobre los elementos de la matriz?\n",
        "\n",
        "**La matriz es bidimensional y consta de dos matrices cada una con 20 elementos.**"
      ]
    },
    {
      "cell_type": "markdown",
      "metadata": {
        "id": "xF8iyO_-QmBy"
      },
      "source": [
        "2. Tiene un DataFrame de Pandas llamado df_sales que contiene datos de ventas diarias. El DataFrame contiene las siguientes columnas: año, mes, día_de_month, sales_total. Desea encontrar el valor total de ventas promedio. ¿Qué código deberías usar?\n",
        "\n",
        "**df_sales['sales_total'].mean()**"
      ]
    },
    {
      "cell_type": "markdown",
      "metadata": {
        "id": "yywGXVJgQtHy"
      },
      "source": [
        "3. Tiene un DataFrame que contiene datos sobre las ventas diarias de helados. Utiliza el método corr para comparar las columnas avg_temp y units_sold, y obtiene un resultado de 0.97. ¿Qué indica este resultado?\n",
        "\n",
        "**Los días con valores altos de avg_temp tienden a coincidir con días que tienen valores altos de unit_sold**"
      ]
    },
    {
      "cell_type": "markdown",
      "metadata": {
        "id": "kJ8Frwi4Q-Uy"
      },
      "source": [
        "## Resumen"
      ]
    },
    {
      "cell_type": "markdown",
      "metadata": {
        "id": "FB82jYdPRAKD"
      },
      "source": [
        "En este módulo, aprendió a usar Python para explorar, visualizar y manipular datos. La exploración de datos es el núcleo de la ciencia de datos y es un elemento clave en el análisis de datos y el aprendizaje automático.\n",
        "\n",
        "El aprendizaje automático es un subconjunto de la ciencia de datos que se ocupa del modelado predictivo. En otras palabras, el aprendizaje automático utiliza datos para crear modelos predictivos, con el fin de predecir valores desconocidos. Puede utilizar el aprendizaje automático para predecir cuánta comida necesita pedir un supermercado o para identificar plantas en fotografías.\n",
        "\n",
        "El aprendizaje automático funciona identificando relaciones entre los valores de los datos que describen las características de algo, sus características, como la altura y el color de una planta, y el valor que queremos predecir, la etiqueta, como la especie de planta. Estas relaciones se integran en un modelo a través de un proceso de formación."
      ]
    }
  ]
}